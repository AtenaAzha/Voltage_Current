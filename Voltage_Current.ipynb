{
 "cells": [
  {
   "cell_type": "code",
   "execution_count": 1,
   "metadata": {},
   "outputs": [],
   "source": [
    "import numpy as np\n",
    "import pandas as pd\n",
    "import matplotlib.pyplot as plt\n",
    "from sklearn.preprocessing import StandardScaler\n",
    "from keras.models import Sequential\n",
    "from keras.layers import Dense,LSTM,Dropout\n",
    "from keras.callbacks import EarlyStopping\n",
    "from collections import deque"
   ]
  },
  {
   "cell_type": "code",
   "execution_count": 3,
   "metadata": {},
   "outputs": [],
   "source": [
    "df = pd.read_csv(r\"C:\\Users\\Ehsan\\Desktop\\AI_project\\voltage&current.csv\" , delimiter=\",\")"
   ]
  },
  {
   "cell_type": "code",
   "execution_count": 5,
   "metadata": {},
   "outputs": [],
   "source": [
    "df_filtered = df[(df['voltage'] >= 0) & (df['current']) >= 0]"
   ]
  },
  {
   "cell_type": "code",
   "execution_count": 7,
   "metadata": {},
   "outputs": [],
   "source": [
    "SEQ_LEN = 20\n",
    "VAL_RATIO = 0.05"
   ]
  },
  {
   "cell_type": "code",
   "execution_count": 9,
   "metadata": {},
   "outputs": [],
   "source": [
    "box = deque(maxlen = SEQ_LEN)\n",
    "boxes = []\n",
    "data = df_filtered.values\n",
    "for smp in data:\n",
    "    box.append(((smp[0]) , (smp[1])))\n",
    "    if len(box) == SEQ_LEN:\n",
    "        boxes.append([np.array(box),smp[2]])"
   ]
  },
  {
   "cell_type": "code",
   "execution_count": 11,
   "metadata": {},
   "outputs": [],
   "source": [
    "data_len = len(boxes)\n",
    "val_len  = int(data_len * VAL_RATIO)\n",
    "\n",
    "data_train = boxes[:-val_len]\n",
    "data_val  = boxes[-val_len:]"
   ]
  },
  {
   "cell_type": "code",
   "execution_count": 13,
   "metadata": {},
   "outputs": [],
   "source": [
    "x_t = []\n",
    "x_v = []\n",
    "y_t = []\n",
    "y_v = []\n",
    "\n",
    "\n",
    "for seq , target in data_train:\n",
    "    x_t.append(seq)\n",
    "    y_t.append(target)\n",
    "    \n",
    "for seq , target in data_val:\n",
    "    x_v.append(seq)\n",
    "    y_v.append(target)\n",
    "    \n",
    "    \n",
    "x_training = np.array(x_t)\n",
    "y_train = np.array(y_t)\n",
    "x_valid    = np.array(x_v)\n",
    "y_val    = np.array(y_v)    "
   ]
  },
  {
   "cell_type": "code",
   "execution_count": 15,
   "metadata": {},
   "outputs": [],
   "source": [
    "scale = StandardScaler()\n",
    "\n",
    "reshape_x_t = x_training.reshape(-1 , x_training.shape[-1])\n",
    "reshape_x_v = x_valid.reshape(-1 , x_valid.shape[-1])\n",
    "\n",
    "scale.fit(reshape_x_t)\n",
    "\n",
    "scaled_x_t = scale.transform(reshape_x_t)\n",
    "scaled_x_v = scale.transform(reshape_x_v)\n",
    "\n",
    "x_train = scaled_x_t.reshape(x_training.shape)\n",
    "x_val   = scaled_x_v.reshape(x_valid.shape)"
   ]
  },
  {
   "cell_type": "code",
   "execution_count": 17,
   "metadata": {},
   "outputs": [],
   "source": [
    "cb = EarlyStopping(patience=3, restore_best_weights=True)"
   ]
  },
  {
   "cell_type": "code",
   "execution_count": null,
   "metadata": {},
   "outputs": [],
   "source": [
    "model = Sequential()\n",
    "\n",
    "model.add(LSTM(128, input_shape=x_train.shape[1:], return_sequences=True))\n",
    "model.add(Dropout(0.2))\n",
    "\n",
    "model.add(LSTM(128))\n",
    "model.add(Dropout(0.2))\n",
    "\n",
    "model.add(Dense(32))\n",
    "model.add(Dense(1, activation='linear'))\n",
    "\n",
    "model.compile(optimizer='adam', loss='mse')\n",
    "\n",
    "print(model.summary())"
   ]
  },
  {
   "cell_type": "code",
   "execution_count": null,
   "metadata": {},
   "outputs": [],
   "source": [
    "results = model.fit(x_train, y_train, epochs=20, batch_size=64, validation_data=(x_val, y_val) , callbacks=cb)"
   ]
  },
  {
   "cell_type": "code",
   "execution_count": null,
   "metadata": {},
   "outputs": [],
   "source": [
    "model.save(\"model.h5\")"
   ]
  },
  {
   "cell_type": "code",
   "execution_count": null,
   "metadata": {},
   "outputs": [],
   "source": [
    "yhat_train = model.predict(x_train).round()\n",
    "yhat_test  = model.predict(x_val).round()"
   ]
  },
  {
   "cell_type": "code",
   "execution_count": 31,
   "metadata": {},
   "outputs": [
    {
     "data": {
      "text/plain": [
       "<matplotlib.legend.Legend at 0x285d5192f60>"
      ]
     },
     "execution_count": 31,
     "metadata": {},
     "output_type": "execute_result"
    },
    {
     "data": {
      "image/png": "[encoded data removed]",
      "text/plain": [
       "<Figure size 640x480 with 1 Axes>"
      ]
     },
     "metadata": {},
     "output_type": "display_data"
    }
   ],
   "source": [
    "plt.plot(results.history[\"loss\"] , label=\"train\")\n",
    "plt.plot(results.history[\"val_loss\"] , label=\"test\")\n",
    "plt.legend()"
   ]
  },
  {
   "cell_type": "code",
   "execution_count": null,
   "metadata": {},
   "outputs": [],
   "source": []
  }
 ],
 "metadata": {
  "kernelspec": {
   "display_name": "venv",
   "language": "python",
   "name": "venv"
  },
  "language_info": {
   "codemirror_mode": {
    "name": "ipython",
    "version": 3
   },
   "file_extension": ".py",
   "mimetype": "text/x-python",
   "name": "python",
   "nbconvert_exporter": "python",
   "pygments_lexer": "ipython3",
   "version": "3.12.1"
  }
 },
 "nbformat": 4,
 "nbformat_minor": 4
}
